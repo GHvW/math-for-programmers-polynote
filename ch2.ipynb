{
  "metadata" : {
    "config" : {
      "dependencies" : {
        
      },
      "exclusions" : [
      ],
      "repositories" : [
      ],
      "env" : {
        
      }
    },
    "language_info" : {
      "name" : "scala"
    }
  },
  "nbformat" : 4,
  "nbformat_minor" : 0,
  "cells" : [
    {
      "cell_type" : "markdown",
      "execution_count" : 0,
      "metadata" : {
        "language" : "text"
      },
      "language" : "text",
      "source" : [
        "# Chapter 2: Drawing with 2D Vectors<br>\n",
        "\n",
        "\n",
        "Math for Programmers<br>\n",
        "\n",
        "\n"
      ],
      "outputs" : [
      ]
    },
    {
      "cell_type" : "markdown",
      "execution_count" : 1,
      "metadata" : {
        "language" : "text"
      },
      "language" : "text",
      "source" : [
        "Setup?<br>\n",
        "\n",
        "\n"
      ],
      "outputs" : [
      ]
    },
    {
      "cell_type" : "code",
      "execution_count" : 2,
      "metadata" : {
        "cell.metadata.exec_info" : {
          "startTs" : 1604463885839,
          "endTs" : 1604463885873
        },
        "language" : "python"
      },
      "language" : "python",
      "source" : [
        "import numpy as np\n",
        "import matplotlib.pyplot as plot"
      ],
      "outputs" : [
      ]
    },
    {
      "cell_type" : "markdown",
      "execution_count" : 3,
      "metadata" : {
        "language" : "text"
      },
      "language" : "text",
      "source" : [
        "### 2.1 - Picturing 2D Vectors<br>\n",
        "\n"
      ],
      "outputs" : [
      ]
    },
    {
      "cell_type" : "markdown",
      "execution_count" : 4,
      "metadata" : {
        "language" : "text"
      },
      "language" : "text",
      "source" : [
        "<div>A Vector example as an arrow</div><div><br></div><div>Drawn from (0, 0) origin<br></div>"
      ],
      "outputs" : [
      ]
    },
    {
      "cell_type" : "code",
      "execution_count" : 5,
      "metadata" : {
        "cell.metadata.exec_info" : {
          "startTs" : 1604463885902,
          "endTs" : 1604463886426
        },
        "language" : "python"
      },
      "language" : "python",
      "source" : [
        "(origin_x, origin_y) = (0, 0)\n",
        "(x, y) = (6, 4)\n",
        "plot.arrow(origin_x, origin_y, x, y, head_width=0.1, head_length=0.1)\n",
        "plot.grid()\n",
        "plot.show()"
      ],
      "outputs" : [
      ]
    },
    {
      "cell_type" : "markdown",
      "execution_count" : 6,
      "metadata" : {
        "language" : "text"
      },
      "language" : "text",
      "source" : [
        "With a non (0, 0) origin<br>"
      ],
      "outputs" : [
      ]
    },
    {
      "cell_type" : "code",
      "execution_count" : 7,
      "metadata" : {
        "cell.metadata.exec_info" : {
          "startTs" : 1604463886454,
          "endTs" : 1604463886912
        },
        "language" : "python"
      },
      "language" : "python",
      "source" : [
        "(origin_x, origin_y) = (10, 10)\n",
        "(x, y) = (6, 4)\n",
        "plot.arrow(origin_x, origin_y, x, y, head_width=0.1, head_length=0.1)\n",
        "plot.grid()\n",
        "plot.show()"
      ],
      "outputs" : [
      ]
    },
    {
      "cell_type" : "markdown",
      "execution_count" : 8,
      "metadata" : {
        "language" : "text"
      },
      "language" : "text",
      "source" : [
        "<div><h2>Exercises</h2></div>"
      ],
      "outputs" : [
      ]
    },
    {
      "cell_type" : "markdown",
      "execution_count" : 9,
      "metadata" : {
        "language" : "text"
      },
      "language" : "text",
      "source" : [
        "Exercise 2.2<br>"
      ],
      "outputs" : [
      ]
    },
    {
      "cell_type" : "code",
      "execution_count" : 10,
      "metadata" : {
        "cell.metadata.exec_info" : {
          "startTs" : 1604463886924,
          "endTs" : 1604463887170
        },
        "language" : "python"
      },
      "language" : "python",
      "source" : [
        "plot.arrow(0, 0, 2, -2, head_width=0.1, head_length=0.1)\n",
        "plot.grid()\n",
        "plot.show()"
      ],
      "outputs" : [
      ]
    },
    {
      "cell_type" : "markdown",
      "execution_count" : 11,
      "metadata" : {
        "language" : "text"
      },
      "language" : "text",
      "source" : [
        "Exercise 2.4<br>"
      ],
      "outputs" : [
      ]
    },
    {
      "cell_type" : "code",
      "execution_count" : 12,
      "metadata" : {
        "jupyter.outputs_hidden" : true,
        "cell.metadata.exec_info" : {
          "startTs" : 1604463887177,
          "endTs" : 1604463887650
        },
        "language" : "scala"
      },
      "language" : "scala",
      "source" : [
        "val dinoX = List(6.0, 3.0, 1.0, -1.0, -2.0, -3.0, -4.0, -5.0, -5.0, -2.0, -5.0, -4.0, -2.0, -1.0,  0.0, -1.0,  1.0,  2.0,  1.0,  3.0, 5.0, 6.0)\n",
        "val dinoY = List(4.0, 1.0, 2.0,  5.0,  5.0,  4.0,  4.0,  3.0,  2.0,  2.0,  1.0,  0.0,  1.0,  0.0, -3.0, -4.0, -4.0, -3.0, -2.0, -1.0, 1.0, 4.0)\n",
        "val dino_x = dinoX.toArray\n",
        "val dino_y = dinoY.toArray"
      ],
      "outputs" : [
      ]
    },
    {
      "cell_type" : "code",
      "execution_count" : 13,
      "metadata" : {
        "cell.metadata.exec_info" : {
          "startTs" : 1604463887676,
          "endTs" : 1604463887932
        },
        "language" : "python"
      },
      "language" : "python",
      "source" : [
        "plot.plot(dino_x, dino_y)\n",
        "plot.grid()\n",
        "plot.show()"
      ],
      "outputs" : [
      ]
    },
    {
      "cell_type" : "markdown",
      "execution_count" : 14,
      "metadata" : {
        "language" : "text"
      },
      "language" : "text",
      "source" : [
        "Exercise 2.5<br>\n",
        "\n",
        "\n"
      ],
      "outputs" : [
      ]
    },
    {
      "cell_type" : "code",
      "execution_count" : 15,
      "metadata" : {
        "cell.metadata.exec_info" : {
          "startTs" : 1604463887940,
          "endTs" : 1604463888596
        },
        "language" : "scala"
      },
      "language" : "scala",
      "source" : [
        "val (xs, ys) =\n",
        "    (-10 to 10)\n",
        "        .map { (i) => (i, i * i) }\n",
        "        .foldLeft((List[Int](), List[Int]())) { case ((xs, ys), (x, y)) => \n",
        "            (x :: xs, y :: ys) \n",
        "        }\n",
        "\n",
        "val x = xs.toArray\n",
        "val y = ys.toArray"
      ],
      "outputs" : [
      ]
    },
    {
      "cell_type" : "code",
      "execution_count" : 16,
      "metadata" : {
        "cell.metadata.exec_info" : {
          "startTs" : 1604463888604,
          "endTs" : 1604463888879
        },
        "language" : "python"
      },
      "language" : "python",
      "source" : [
        "plot.scatter(x, y, )\n",
        "plot.grid()\n",
        "plot.show()"
      ],
      "outputs" : [
      ]
    },
    {
      "cell_type" : "markdown",
      "execution_count" : 17,
      "metadata" : {
        "language" : "text"
      },
      "language" : "text",
      "source" : [
        "### 2.2 - Plane Vector Arithmetic<br>\n",
        "\n",
        "\n"
      ],
      "outputs" : [
      ]
    },
    {
      "cell_type" : "code",
      "execution_count" : 18,
      "metadata" : {
        "cell.metadata.exec_info" : {
          "startTs" : 1604463888886,
          "endTs" : 1604463889122
        },
        "language" : "scala"
      },
      "language" : "scala",
      "source" : [
        "// learning implicits :)\n",
        "object VectorExtensions {\n",
        "    implicit class VectorAddition(v: (Double, Double)) {\n",
        "        def add(other: (Double, Double)): (Double, Double) = {\n",
        "            (v._1 + other._1, v._2 + other._2)\n",
        "        }\n",
        "    }\n",
        "}\n",
        "\n"
      ],
      "outputs" : [
      ]
    },
    {
      "cell_type" : "code",
      "execution_count" : 24,
      "metadata" : {
        "cell.metadata.exec_info" : {
          "startTs" : 1604463889129,
          "endTs" : 1604463889272
        },
        "language" : "scala"
      },
      "language" : "scala",
      "source" : [
        "import VectorExtensions._"
      ],
      "outputs" : [
      ]
    },
    {
      "cell_type" : "code",
      "execution_count" : 25,
      "metadata" : {
        "cell.metadata.exec_info" : {
          "startTs" : 1604463889280,
          "endTs" : 1604463889795
        },
        "language" : "scala"
      },
      "language" : "scala",
      "source" : [
        "(10.0, 10.0).add((20.0, 20.0))"
      ],
      "outputs" : [
      ]
    },
    {
      "cell_type" : "markdown",
      "execution_count" : 19,
      "metadata" : {
        "language" : "text"
      },
      "language" : "text",
      "source" : [
        "Vector Math Illustration<br>"
      ],
      "outputs" : [
      ]
    },
    {
      "cell_type" : "code",
      "execution_count" : 20,
      "metadata" : {
        "cell.metadata.exec_info" : {
          "startTs" : 1604463889806,
          "endTs" : 1604463890505
        },
        "language" : "scala"
      },
      "language" : "scala",
      "source" : [
        "val firstVector = (5.0, 10.0)\n",
        "val secondVector = (8.0, 2.0)\n",
        "\n",
        "val result = firstVector.add(secondVector)\n",
        "\n",
        "val (v1x, v1y) = firstVector\n",
        "val (v2x, v2y) = secondVector\n",
        "val (resultx, resulty) = result"
      ],
      "outputs" : [
      ]
    },
    {
      "cell_type" : "code",
      "execution_count" : 21,
      "metadata" : {
        "cell.metadata.exec_info" : {
          "startTs" : 1604463890528,
          "endTs" : 1604463890785
        },
        "language" : "python"
      },
      "language" : "python",
      "source" : [
        "\n",
        "plot.arrow(0, 0, v1x, v1y, head_width=0.1, head_length=0.1, color=\"blue\")\n",
        "plot.arrow(0, 0, v2x, v2y, head_width=0.1, head_length=0.1, color=\"red\")\n",
        "plot.arrow(v1x, v1y, v2x, v2y, head_width=0.1, head_length=0.1, color=\"red\")\n",
        "plot.arrow(0, 0, resultx, resulty, head_width=0.1, head_length=0.1, color=\"purple\")\n",
        "plot.show()"
      ],
      "outputs" : [
      ]
    },
    {
      "cell_type" : "markdown",
      "execution_count" : 22,
      "metadata" : {
        "language" : "text"
      },
      "language" : "text",
      "source" : [
        "Dino Vectors<br>"
      ],
      "outputs" : [
      ]
    },
    {
      "cell_type" : "code",
      "execution_count" : 23,
      "metadata" : {
        "cell.metadata.exec_info" : {
          "startTs" : 1604463890787,
          "endTs" : 1604463891342
        },
        "language" : "scala"
      },
      "language" : "scala",
      "source" : [
        "import VectorExtensions._ // why do I have to have this here?\n",
        "\n",
        "val dinoVectors = dinoX.zip(dinoY)\n",
        "dinoVectors"
      ],
      "outputs" : [
      ]
    },
    {
      "cell_type" : "code",
      "execution_count" : 26,
      "metadata" : {
        "cell.metadata.exec_info" : {
          "startTs" : 1604464338392,
          "endTs" : 1604464339389
        },
        "language" : "scala"
      },
      "language" : "scala",
      "source" : [
        "\n",
        "val dinoVectors2 = dinoVectors.map { (v) => v.add((-2, -3)) }\n",
        "\n",
        "val (dino2x, dino2y) = dinoVectors2.foldLeft((List[Double](), List[Double]())) { case ((xs, ys), (x, y)) => (x :: xs, y :: ys) }\n",
        "\n",
        "val d2x = dino2x.toArray\n",
        "\n",
        "val d2y = dino2y.toArray"
      ],
      "outputs" : [
      ]
    },
    {
      "cell_type" : "code",
      "execution_count" : 27,
      "metadata" : {
        "cell.metadata.exec_info" : {
          "startTs" : 1604464341133,
          "endTs" : 1604464341320
        },
        "language" : "python"
      },
      "language" : "python",
      "source" : [
        "plot.plot(dino_x, dino_y)\n",
        "plot.plot(d2x, d2y)\n",
        "plot.grid()\n",
        "plot.show()"
      ],
      "outputs" : [
      ]
    }
  ]
}