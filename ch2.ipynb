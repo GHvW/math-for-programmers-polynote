{
  "metadata" : {
    "config" : {
      "dependencies" : {
        
      },
      "exclusions" : [
      ],
      "repositories" : [
      ],
      "env" : {
        
      }
    },
    "language_info" : {
      "name" : "scala"
    }
  },
  "nbformat" : 4,
  "nbformat_minor" : 0,
  "cells" : [
    {
      "cell_type" : "markdown",
      "execution_count" : 0,
      "metadata" : {
        "language" : "text"
      },
      "language" : "text",
      "source" : [
        "# Chapter 2: Drawing with 2D Vectors<br>\n",
        "\n",
        "\n",
        "Math for Programmers<br>\n",
        "\n",
        "\n"
      ],
      "outputs" : [
      ]
    },
    {
      "cell_type" : "markdown",
      "execution_count" : 1,
      "metadata" : {
        "language" : "text"
      },
      "language" : "text",
      "source" : [
        "Exercise 2.<br>\n",
        "\n",
        "\n"
      ],
      "outputs" : [
      ]
    },
    {
      "cell_type" : "code",
      "execution_count" : 9,
      "metadata" : {
        "cell.metadata.exec_info" : {
          "startTs" : 1604442289513,
          "endTs" : 1604442289593
        },
        "language" : "python"
      },
      "language" : "python",
      "source" : [
        "import numpy as np\n",
        "import matplotlib.pyplot as plot"
      ],
      "outputs" : [
      ]
    },
    {
      "cell_type" : "code",
      "execution_count" : 2,
      "metadata" : {
        "jupyter.outputs_hidden" : true,
        "cell.metadata.exec_info" : {
          "startTs" : 1604442291554,
          "endTs" : 1604442292263
        },
        "language" : "scala"
      },
      "language" : "scala",
      "source" : [
        "val dinoX = List(6, 3, 1, -1, -2, -3, -4, -5, -5, -2, -5, -4, -2, -1,  0, -1,  1,  2,  1,  3, 5, 6).toArray\n",
        "val dinoY = List(4, 1, 2,  5,  5,  4,  4,  3,  2,  2,  1,  0,  1,  0, -3, -4, -4, -3, -2, -1, 1, 4).toArray"
      ],
      "outputs" : [
      ]
    },
    {
      "cell_type" : "code",
      "execution_count" : 3,
      "metadata" : {
        "cell.metadata.exec_info" : {
          "startTs" : 1604442319768,
          "endTs" : 1604442319981
        },
        "language" : "python"
      },
      "language" : "python",
      "source" : [
        "import numpy as np\n",
        "import matplotlib.pyplot as plot\n",
        "\n",
        "plot.plot(dinoX, dinoY)\n",
        "plot.show()"
      ],
      "outputs" : [
      ]
    },
    {
      "cell_type" : "markdown",
      "execution_count" : 4,
      "metadata" : {
        "language" : "text"
      },
      "language" : "text",
      "source" : [
        "Something"
      ],
      "outputs" : [
      ]
    },
    {
      "cell_type" : "code",
      "execution_count" : 5,
      "metadata" : {
        "cell.metadata.exec_info" : {
          "startTs" : 1604443092579,
          "endTs" : 1604443093383
        },
        "language" : "scala"
      },
      "language" : "scala",
      "source" : [
        "val (xs, ys) =\n",
        "    (-10 to 10)\n",
        "        .map { (i) => (i, i * i) }\n",
        "        .foldLeft((List[Int](), List[Int]())) { case ((xs, ys), (x, y)) => \n",
        "            (x :: xs, y :: ys) \n",
        "        }\n",
        "\n",
        "val x = xs.toArray\n",
        "val y = ys.toArray"
      ],
      "outputs" : [
      ]
    },
    {
      "cell_type" : "code",
      "execution_count" : 6,
      "metadata" : {
        "cell.metadata.exec_info" : {
          "startTs" : 1604443147383,
          "endTs" : 1604443179098
        },
        "language" : "python"
      },
      "language" : "python",
      "source" : [
        "import numpy as np\n",
        "import matplotlib.pyplot as plot\n",
        "\n",
        "plot.plot(x, y)\n",
        "plot.grid()\n",
        "plot.show()"
      ],
      "outputs" : [
      ]
    },
    {
      "cell_type" : "markdown",
      "execution_count" : 7,
      "metadata" : {
        "language" : "text"
      },
      "language" : "text",
      "source" : [
        "Something"
      ],
      "outputs" : [
      ]
    },
    {
      "cell_type" : "code",
      "execution_count" : 8,
      "metadata" : {
        "language" : "scala"
      },
      "language" : "scala",
      "source" : [
      ],
      "outputs" : [
      ]
    }
  ]
}